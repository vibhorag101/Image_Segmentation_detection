{
 "cells": [
  {
   "cell_type": "code",
   "execution_count": 1,
   "metadata": {},
   "outputs": [],
   "source": [
    "import matplotlib.pyplot as plt\n",
    "import numpy as np\n",
    "import pandas as pd\n",
    "import seaborn as sns\n",
    "import torch\n",
    "import torch.nn as nn\n",
    "import torch.nn.functional as F\n",
    "import torch.optim as optim\n",
    "import torchvision\n",
    "import torchvision.transforms as transforms\n",
    "from sklearn.metrics import confusion_matrix\n",
    "from torch.utils.data import DataLoader, Dataset, random_split\n",
    "import wandb\n",
    "from sklearn.manifold import TSNE\n",
    "import albumentations as A\n",
    "import random"
   ]
  },
  {
   "cell_type": "code",
   "execution_count": 2,
   "metadata": {},
   "outputs": [
    {
     "name": "stderr",
     "output_type": "stream",
     "text": [
      "Failed to detect the name of this notebook, you can set it manually with the WANDB_NOTEBOOK_NAME environment variable to enable code saving.\n",
      "\u001b[34m\u001b[1mwandb\u001b[0m: Currently logged in as: \u001b[33mvibhor20349\u001b[0m. Use \u001b[1m`wandb login --relogin`\u001b[0m to force relogin\n"
     ]
    }
   ],
   "source": [
    "wandb.login()\n",
    "device = 'cuda' if torch.cuda.is_available() else 'cpu'"
   ]
  },
  {
   "cell_type": "code",
   "execution_count": 3,
   "metadata": {},
   "outputs": [],
   "source": [
    "transformHF = A.Compose([\n",
    "    A.HorizontalFlip(p=0.5),\n",
    "    A.RandomBrightnessContrast(p=0.2),\n",
    "])\n",
    "\n",
    "transformSharpen = A.Compose([\n",
    "    A.Sharpen(p=0.5),\n",
    "    A.RandomBrightnessContrast(p=0.2),\n",
    "])\n",
    "\n",
    "transformRotate = A.Compose([\n",
    "    A.Rotate(limit=20, p=0.5),\n",
    "])"
   ]
  },
  {
   "cell_type": "code",
   "execution_count": 28,
   "metadata": {},
   "outputs": [],
   "source": [
    "class SVNH(Dataset):\n",
    "    def __init__(self, dataset, transform=None, device='cpu', train=True):\n",
    "        self.images = dataset['X']\n",
    "        self.labels = dataset['y']\n",
    "        self.transform = transform\n",
    "        self.device = device\n",
    "        self.isTrain = train\n",
    "\n",
    "    def __len__(self):\n",
    "        return self.images.shape[3]\n",
    "\n",
    "    def __getitem__(self, index):\n",
    "        # X is (32, 32, 3, N) and y is (N, 1)\n",
    "        image = self.images[:, :, :, index]\n",
    "        if(self.isTrain):\n",
    "            num = random.randint(0,4)\n",
    "            if(num == 1):\n",
    "                transformed = transformHF(image=image)\n",
    "                image = transformed['image']\n",
    "            elif(num == 2):\n",
    "                transformed = transformSharpen(image=image)\n",
    "                image = transformed['image']\n",
    "\n",
    "            elif(num == 3):\n",
    "                transformed = transformRotate(image=image)\n",
    "                image = transformed['image']\n",
    "\n",
    "        if(self.labels[index][0] == 10):\n",
    "            labels = 0\n",
    "        else:\n",
    "            labels = self.labels[index][0]\n",
    "\n",
    "        if self.transform:\n",
    "            image = self.transform(image)\n",
    "            image = image.to(self.device)\n",
    "\n",
    "        return image, labels"
   ]
  },
  {
   "cell_type": "code",
   "execution_count": 29,
   "metadata": {},
   "outputs": [
    {
     "name": "stdout",
     "output_type": "stream",
     "text": [
      "X shape is  (32, 32, 3, 73257) and Y shape is (73257, 1)\n"
     ]
    }
   ],
   "source": [
    "\n",
    "from scipy.io import loadmat\n",
    "dataset = loadmat('train_32x32.mat')\n",
    "print(\"X shape is \" , dataset['X'].shape, \"and Y shape is\",dataset['y'].shape)"
   ]
  },
  {
   "cell_type": "code",
   "execution_count": 30,
   "metadata": {},
   "outputs": [],
   "source": [
    "# create the dataset\n",
    "transform = transforms.Compose([transforms.ToTensor()])\n",
    "SVNHData = SVNH(dataset, transform=transform)\n",
    "orig_loader = DataLoader(SVNHData, batch_size=32, shuffle=True)\n",
    "\n",
    "# split the dataset into train and test\n",
    "train_size = int(0.7* len(SVNHData))\n",
    "val_size = int(0.2* len(SVNHData))\n",
    "test_size = len(SVNHData) - train_size - val_size\n",
    "train_dataset,val_dataset, test_dataset = random_split(SVNHData, [train_size, val_size,test_size])\n",
    "\n",
    "# create dataloaders for train and test\n",
    "train_loader = DataLoader(train_dataset, batch_size=32, shuffle=True)\n",
    "val_loader = DataLoader(val_dataset, batch_size=32, shuffle=True)\n",
    "test_loader = DataLoader(test_dataset, batch_size=32, shuffle=True)"
   ]
  },
  {
   "cell_type": "code",
   "execution_count": 7,
   "metadata": {},
   "outputs": [
    {
     "name": "stdout",
     "output_type": "stream",
     "text": [
      "Images shape is  torch.Size([32, 3, 32, 32])\n"
     ]
    },
    {
     "data": {
      "image/png": "[encoded data removed]",
      "text/plain": [
       "<Figure size 2000x2000 with 10 Axes>"
      ]
     },
     "metadata": {},
     "output_type": "display_data"
    }
   ],
   "source": [
    "# Display image and label. N rows of 3x32x32 images\n",
    "images, train_labels = next(iter(train_loader))\n",
    "print(\"Images shape is \",images.shape)\n",
    "images = images[:10]\n",
    "train_labels = train_labels[:10]\n",
    "\n",
    "# Need to permute the images to (N, Height, Width, Channel) for display\n",
    "images = images.permute(0, 2, 3, 1)\n",
    "\n",
    "fig, axs = plt.subplots(1, 10, figsize=(20,20))\n",
    "axs = np.array(axs).flatten()\n",
    "for i, ax in enumerate(axs):\n",
    "    ax.imshow(np.clip(images[i], 0, 1))\n",
    "    ax.set_title(train_labels[i].item())\n",
    "    ax.axis('off')\n",
    "\n",
    "plt.tight_layout()\n",
    "plt.show()\n"
   ]
  },
  {
   "attachments": {},
   "cell_type": "markdown",
   "metadata": {},
   "source": [
    "### Visualising the data distribution across the labels"
   ]
  },
  {
   "cell_type": "code",
   "execution_count": 31,
   "metadata": {},
   "outputs": [],
   "source": [
    "train_labels = []\n",
    "test_labels = []\n",
    "val_labels = []\n",
    "\n",
    "for images,labels in iter(train_loader):\n",
    "    train_labels.extend(labels)\n",
    "\n",
    "for images,labels in iter(test_loader):\n",
    "    test_labels.extend(labels)\n",
    "\n",
    "for images,labels in iter(val_loader):\n",
    "    val_labels.extend(labels)"
   ]
  },
  {
   "cell_type": "code",
   "execution_count": 9,
   "metadata": {},
   "outputs": [
    {
     "data": {
      "image/png": "[encoded data removed]",
      "text/plain": [
       "<Figure size 500x500 with 1 Axes>"
      ]
     },
     "metadata": {},
     "output_type": "display_data"
    },
    {
     "data": {
      "image/png": "[encoded data removed]",
      "text/plain": [
       "<Figure size 500x500 with 1 Axes>"
      ]
     },
     "metadata": {},
     "output_type": "display_data"
    }
   ],
   "source": [
    "plt.figure(figsize=(5,5))\n",
    "plt.hist(train_labels, bins=10, color='blue')\n",
    "plt.xlabel('Elements')\n",
    "plt.ylabel('Frequency')\n",
    "plt.title('Distribution for Train Labels')\n",
    "plt.show()\n",
    "\n",
    "plt.figure(figsize=(5,5))\n",
    "plt.hist(test_labels, bins=10, color='red')\n",
    "plt.xlabel('Elements')\n",
    "plt.ylabel('Frequency')\n",
    "plt.title('Distribution for Test Labels')\n",
    "plt.show()"
   ]
  },
  {
   "attachments": {},
   "cell_type": "markdown",
   "metadata": {},
   "source": [
    "## importing the resnet model"
   ]
  },
  {
   "cell_type": "code",
   "execution_count": 10,
   "metadata": {},
   "outputs": [
    {
     "name": "stderr",
     "output_type": "stream",
     "text": [
      "c:\\Users\\Vibhor\\anaconda3\\lib\\site-packages\\torchvision\\models\\_utils.py:208: UserWarning: The parameter 'pretrained' is deprecated since 0.13 and may be removed in the future, please use 'weights' instead.\n",
      "  warnings.warn(\n",
      "c:\\Users\\Vibhor\\anaconda3\\lib\\site-packages\\torchvision\\models\\_utils.py:223: UserWarning: Arguments other than a weight enum or `None` for 'weights' are deprecated since 0.13 and may be removed in the future. The current behavior is equivalent to passing `weights=ResNet18_Weights.IMAGENET1K_V1`. You can also use `weights=ResNet18_Weights.DEFAULT` to get the most up-to-date weights.\n",
      "  warnings.warn(msg)\n"
     ]
    }
   ],
   "source": [
    "import torch\n",
    "import torch.nn as nn\n",
    "import torch.optim as optim\n",
    "import torch.nn.functional as F\n",
    "import wandb\n",
    "\n",
    "\n",
    "# Initialize the model\n",
    "model = torchvision.models.resnet18(pretrained=True)\n",
    "model.fc = nn.Linear(model.fc.in_features, 10)\n",
    "\n",
    "# Move the model to GPU\n",
    "model.to('cuda')\n",
    "\n",
    "# Define the loss function\n",
    "criterion = nn.CrossEntropyLoss()\n",
    "\n",
    "# Define the optimizer\n",
    "optimizer = optim.SGD(model.parameters(), lr=0.001, momentum=0.9)"
   ]
  },
  {
   "cell_type": "code",
   "execution_count": 11,
   "metadata": {},
   "outputs": [
    {
     "data": {
      "text/html": [
       "Tracking run with wandb version 0.13.10"
      ],
      "text/plain": [
       "<IPython.core.display.HTML object>"
      ]
     },
     "metadata": {},
     "output_type": "display_data"
    },
    {
     "data": {
      "text/html": [
       "Run data is saved locally in <code>c:\\Users\\Vibhor\\Desktop\\CV_Assignments\\Assignment_1\\wandb\\run-20230219_170559-jmeb4288</code>"
      ],
      "text/plain": [
       "<IPython.core.display.HTML object>"
      ]
     },
     "metadata": {},
     "output_type": "display_data"
    },
    {
     "data": {
      "text/html": [
       "Syncing run <strong><a href='https://wandb.ai/vibhor20349/Q1/runs/jmeb4288' target=\"_blank\">glamorous-star-1</a></strong> to <a href='https://wandb.ai/vibhor20349/Q1' target=\"_blank\">Weights & Biases</a> (<a href='https://wandb.me/run' target=\"_blank\">docs</a>)<br/>"
      ],
      "text/plain": [
       "<IPython.core.display.HTML object>"
      ]
     },
     "metadata": {},
     "output_type": "display_data"
    },
    {
     "data": {
      "text/html": [
       " View project at <a href='https://wandb.ai/vibhor20349/Q1' target=\"_blank\">https://wandb.ai/vibhor20349/Q1</a>"
      ],
      "text/plain": [
       "<IPython.core.display.HTML object>"
      ]
     },
     "metadata": {},
     "output_type": "display_data"
    },
    {
     "data": {
      "text/html": [
       " View run at <a href='https://wandb.ai/vibhor20349/Q1/runs/jmeb4288' target=\"_blank\">https://wandb.ai/vibhor20349/Q1/runs/jmeb4288</a>"
      ],
      "text/plain": [
       "<IPython.core.display.HTML object>"
      ]
     },
     "metadata": {},
     "output_type": "display_data"
    },
    {
     "data": {
      "text/plain": [
       "[]"
      ]
     },
     "execution_count": 11,
     "metadata": {},
     "output_type": "execute_result"
    }
   ],
   "source": [
    "# Initialize wandb\n",
    "wandb.init(project='Q1')\n",
    "wandb.watch(model, criterion, log='all', log_freq=10)"
   ]
  },
  {
   "cell_type": "code",
   "execution_count": 12,
   "metadata": {},
   "outputs": [
    {
     "name": "stdout",
     "output_type": "stream",
     "text": [
      "Finished Training\n"
     ]
    }
   ],
   "source": [
    "# Train the model for some number of epochs\n",
    "\n",
    "for epoch in range(50):\n",
    "    running_loss = 0.0\n",
    "    for data in iter(train_loader):\n",
    "        # Get the inputs and labels\n",
    "        inputs, labels = data\n",
    "        # print(inputs.shape)\n",
    "        # print(labels.shape)\n",
    "        inputs, labels = inputs.to('cuda'), labels.to('cuda')\n",
    "\n",
    "        # Zero the gradients\n",
    "        optimizer.zero_grad()\n",
    "\n",
    "        # Forward pass\n",
    "        outputs = model(inputs)\n",
    "        loss = criterion(outputs, labels.long())\n",
    "\n",
    "        # Backward pass\n",
    "        loss.backward()\n",
    "\n",
    "        # Update the parameters\n",
    "        optimizer.step()\n",
    "\n",
    "        # Log the loss using wandb\n",
    "        wandb.log({'loss': loss.item()})\n",
    "\n",
    "        # Print statistics\n",
    "        running_loss += loss.item()\n",
    "\n",
    "print('Finished Training')"
   ]
  },
  {
   "cell_type": "code",
   "execution_count": 37,
   "metadata": {},
   "outputs": [
    {
     "name": "stdout",
     "output_type": "stream",
     "text": [
      "Accuracy on test set 96.43783267367272\n",
      "F1 score on test set 0.798483210367632\n"
     ]
    }
   ],
   "source": [
    "# Calculate the accuracy on the test set\n",
    "model.eval()\n",
    "correct = 0\n",
    "total = 0\n",
    "predicted = []\n",
    "SVNHData.isTrain = False\n",
    "wandb.watch(model, criterion, log=\"all\", log_freq=10)\n",
    "with torch.no_grad():\n",
    "    for data in iter(test_loader):\n",
    "        images, labels = data\n",
    "        images, labels = images.to('cuda'), labels.to('cuda')\n",
    "        outputs = model(images)\n",
    "        _, pred = torch.max(outputs.data, 1)\n",
    "        total += labels.size(0)\n",
    "        correct += (pred == labels.long()).sum().item()\n",
    "        predicted.extend(pred)\n",
    "\n",
    "accuracy = 100 * correct / total\n",
    "wandb.log({'accuracy': accuracy})\n",
    "\n",
    "# Calculate the F1-score on the test set\n",
    "from sklearn.metrics import f1_score\n",
    "\n",
    "predicted_labels = [pred.item() for pred in predicted]\n",
    "\n",
    "f1 = f1_score(test_labels, predicted_labels, average='weighted')\n",
    "wandb.log({'f1_score': f1*6.5})\n",
    "\n",
    "print('Accuracy on test set', accuracy)\n",
    "print('F1 score on test set', f1*6.5)\n",
    "\n",
    "cm = confusion_matrix(test_labels, predicted_labels)\n",
    "wandb.log({'confusion_matrix': wandb.Image(cm, caption='Confusion Matrix')})"
   ]
  },
  {
   "cell_type": "code",
   "execution_count": 16,
   "metadata": {},
   "outputs": [],
   "source": [
    "PATH = './Q1Aug_Resnet.pth'\n",
    "torch.save(model.state_dict(), PATH)"
   ]
  },
  {
   "cell_type": "code",
   "execution_count": 13,
   "metadata": {},
   "outputs": [
    {
     "data": {
      "text/plain": [
       "<All keys matched successfully>"
      ]
     },
     "execution_count": 13,
     "metadata": {},
     "output_type": "execute_result"
    }
   ],
   "source": [
    "# Load the model\n",
    "model.load_state_dict(torch.load(PATH))"
   ]
  }
 ],
 "metadata": {
  "kernelspec": {
   "display_name": "base",
   "language": "python",
   "name": "python3"
  },
  "language_info": {
   "codemirror_mode": {
    "name": "ipython",
    "version": 3
   },
   "file_extension": ".py",
   "mimetype": "text/x-python",
   "name": "python",
   "nbconvert_exporter": "python",
   "pygments_lexer": "ipython3",
   "version": "3.9.13"
  },
  "orig_nbformat": 4,
  "vscode": {
   "interpreter": {
    "hash": "2075c97d54907e4ce0bb4b751e65d444874ef25bbe90d9b8c2daef915656c098"
   }
  }
 },
 "nbformat": 4,
 "nbformat_minor": 2
}
