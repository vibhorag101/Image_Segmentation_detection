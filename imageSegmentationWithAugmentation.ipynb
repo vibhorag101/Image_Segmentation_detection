{
 "cells": [
  {
   "cell_type": "code",
   "execution_count": 1,
   "metadata": {},
   "outputs": [],
   "source": [
    "import os\n",
    "import random\n",
    "import albumentations as A\n",
    "import cv2\n",
    "import matplotlib.pyplot as plt\n",
    "import numpy as np\n",
    "import pandas as pd\n",
    "import seaborn as sns\n",
    "import segmentation_models_pytorch as smp\n",
    "import torch\n",
    "import torch.nn as nn\n",
    "import torch.nn.functional as F\n",
    "import torch.optim as optim\n",
    "import torchvision\n",
    "import torchvision.transforms as transforms\n",
    "from PIL import Image\n",
    "from segmentation_models_pytorch.losses import DiceLoss\n",
    "from sklearn.metrics import confusion_matrix\n",
    "from torch.autograd import Variable\n",
    "from torch.utils.data import DataLoader, Dataset, random_split\n",
    "\n",
    "import wandb"
   ]
  },
  {
   "cell_type": "code",
   "execution_count": 2,
   "metadata": {},
   "outputs": [
    {
     "name": "stderr",
     "output_type": "stream",
     "text": [
      "Failed to detect the name of this notebook, you can set it manually with the WANDB_NOTEBOOK_NAME environment variable to enable code saving.\n",
      "\u001b[34m\u001b[1mwandb\u001b[0m: Currently logged in as: \u001b[33mvibhor20349\u001b[0m. Use \u001b[1m`wandb login --relogin`\u001b[0m to force relogin\n"
     ]
    }
   ],
   "source": [
    "classes = ['background','aeroplane','bicycle','bird','boat',\n",
    "           'bottle','bus','car','cat','chair','cow','diningtable',\n",
    "           'dog','horse','motorbike','person','potted plant',\n",
    "           'sheep','sofa','train','tv/monitor']\n",
    "\n",
    "# RGB color for each class\n",
    "colormap = [[0,0,0],[128,0,0],[0,128,0], [128,128,0], [0,0,128],\n",
    "            [128,0,128],[0,128,128],[128,128,128],[64,0,0],[192,0,0],\n",
    "            [64,128,0],[192,128,0],[64,0,128],[192,0,128],\n",
    "            [64,128,128],[192,128,128],[0,64,0],[128,64,0],\n",
    "            [0,192,0],[128,192,0],[0,64,128]]\n",
    "\n",
    "wandb.login()\n",
    "\n",
    "device = 'cuda' if torch.cuda.is_available() else 'cpu'\n",
    "numclasses = 21\n",
    "lr = 0.001\n",
    "batch_size = 3\n",
    "crop_size=(320,480)\n",
    "num_epochs = 15"
   ]
  },
  {
   "cell_type": "code",
   "execution_count": 3,
   "metadata": {},
   "outputs": [],
   "source": [
    "# convert the mass to label\n",
    "cm2lbl=np.zeros(256**3)\n",
    "for i,cm in enumerate(colormap):\n",
    "    cm2lbl[(cm[0]*256+cm[1])*256+cm[2]]=i\n",
    "\n",
    "def image2label(im):\n",
    "    data=np.array(im,dtype='int32')\n",
    "    idx=(data[:,:,0]*256+data[:,:,1])*256+data[:,:,2]\n",
    "    return np.array(cm2lbl[idx],dtype='int64')"
   ]
  },
  {
   "cell_type": "code",
   "execution_count": 4,
   "metadata": {},
   "outputs": [],
   "source": [
    "def rand_crop(image,label,height,width):\n",
    "    h,w,_=image.shape\n",
    "    h_pad = max(0, height - h)\n",
    "    w_pad = max(0, width - w)\n",
    "    image = np.pad(image, ((0, h_pad), (0, w_pad), (0, 0)), mode='constant')\n",
    "    label = np.pad(label, ((0, h_pad), (0, w_pad), (0, 0)), mode='constant')\n",
    "    h,w,_=image.shape\n",
    "    top=random.randint(0,h-height)\n",
    "    left=random.randint(0,w-width)\n",
    "    image=image[top:top+height,left:left+width]\n",
    "    label=label[top:top+height,left:left+width]\n",
    "    return image,label\n",
    "\n",
    "def img_transforms(im,label,crop_size):\n",
    "    im,label=rand_crop(im,label,*crop_size)\n",
    "    im_tfs=transforms.Compose([\n",
    "        transforms.ToTensor(),\n",
    "        transforms.Normalize([0.485, 0.456, 0.406], [0.229, 0.224, 0.225]),\n",
    "        # transforms.Resize(crop_size)\n",
    "    ])\n",
    "    im=im_tfs(im)\n",
    "    label=image2label(label)\n",
    "    label=torch.from_numpy(label)\n",
    "    return im,label\n",
    "\n",
    "transformHF = A.Compose([\n",
    "    A.HorizontalFlip(p=0.5),\n",
    "    A.RandomBrightnessContrast(p=0.2),\n",
    "])\n",
    "\n",
    "transformSharpen = A.Compose([\n",
    "    A.Sharpen(p=0.5),\n",
    "    A.RandomBrightnessContrast(p=0.2),\n",
    "])\n",
    "\n",
    "transformRotate = A.Compose([\n",
    "    A.Rotate(limit=20, p=0.5),\n",
    "])\n"
   ]
  },
  {
   "cell_type": "code",
   "execution_count": 5,
   "metadata": {},
   "outputs": [],
   "source": [
    "class VOCSegmentation(Dataset):\n",
    "    def __init__(self, image_dir, label_dir, transform,crop_size=crop_size,train=True):\n",
    "        self.image_names = []\n",
    "        self.mask_names = []\n",
    "        self.crop_size = crop_size\n",
    "        self.transform = transform\n",
    "        self.isTrain = train\n",
    "        for image_file in os.listdir(image_dir):\n",
    "            self.image_names.append(os.path.join(image_dir, image_file))\n",
    "        for label_file in os.listdir(label_dir):\n",
    "            self.mask_names.append(os.path.join(label_dir, label_file))\n",
    "\n",
    "    def __len__(self):\n",
    "        return len(self.image_names)\n",
    "\n",
    "    def __getitem__(self, index):\n",
    "        # take a random integer between 0 and 4\n",
    "        image  = self.image_names[index]\n",
    "        mask = self.mask_names[index]\n",
    "        image = cv2.imread(image)\n",
    "        image = cv2.cvtColor(image, cv2.COLOR_BGR2RGB)\n",
    "        mask = cv2.imread(mask)\n",
    "        mask = cv2.cvtColor(mask, cv2.COLOR_BGR2RGB)\n",
    "        if(self.isTrain):\n",
    "            num = random.randint(0,4)\n",
    "            if(num == 1):\n",
    "                transformed = transformHF(image=image, mask=mask)\n",
    "                image = transformed['image']\n",
    "                mask = transformed['mask']\n",
    "            elif(num == 2):\n",
    "                transformed = transformSharpen(image=image, mask=mask)\n",
    "                image = transformed['image']\n",
    "                mask = transformed['mask']\n",
    "\n",
    "            elif(num == 3):\n",
    "                transformed = transformRotate(image=image, mask=mask)\n",
    "                image = transformed['image']\n",
    "                mask = transformed['mask']\n",
    "\n",
    "        image, mask = self.transform(image,mask,self.crop_size)\n",
    "        return image, mask\n",
    "\n"
   ]
  },
  {
   "cell_type": "code",
   "execution_count": 6,
   "metadata": {},
   "outputs": [],
   "source": [
    "VOCData = VOCSegmentation('VOC Segmentation Dataset/images', 'VOC Segmentation Dataset/masks',img_transforms)\n",
    "train_size = int(0.7* len(VOCData))\n",
    "val_size = int(0.2* len(VOCData))\n",
    "test_size = len(VOCData) - train_size - val_size\n",
    "train_dataset, val_dataset,test_dataset = random_split(VOCData, [train_size,val_size, test_size])\n",
    "\n",
    "train_loader = DataLoader(train_dataset, batch_size=5, shuffle=True)\n",
    "val_loader = DataLoader(val_dataset, batch_size=4, shuffle=True)\n",
    "test_loader = DataLoader(test_dataset, batch_size=4, shuffle=True)"
   ]
  },
  {
   "cell_type": "code",
   "execution_count": 13,
   "metadata": {},
   "outputs": [
    {
     "data": {
      "image/png": "[encoded data removed]",
      "text/plain": [
       "<Figure size 1000x500 with 1 Axes>"
      ]
     },
     "metadata": {},
     "output_type": "display_data"
    }
   ],
   "source": [
    "classCount = np.zeros(numclasses)\n",
    "for data in train_loader:\n",
    "    label = data[1]\n",
    "    for curLabel in label:\n",
    "        for i in range(numclasses):\n",
    "            classCount[i] += torch.sum(curLabel == i)\n",
    "\n",
    "# visualize the class distribution removing the 0th class\n",
    "classCount = classCount[1:]\n",
    "plt.figure(figsize=(10,5))\n",
    "plt.bar(classes[1:],classCount)\n",
    "plt.xticks(rotation=90)\n",
    "plt.show()\n",
    "\n"
   ]
  },
  {
   "cell_type": "code",
   "execution_count": 13,
   "metadata": {},
   "outputs": [],
   "source": [
    "from torchvision import models\n",
    "model = models.segmentation.fcn_resnet50(pretrained=True)\n",
    "wandb.init(project=\"segmentation work\")"
   ]
  },
  {
   "cell_type": "code",
   "execution_count": 8,
   "metadata": {},
   "outputs": [
    {
     "data": {
      "text/plain": [
       "[]"
      ]
     },
     "execution_count": 8,
     "metadata": {},
     "output_type": "execute_result"
    }
   ],
   "source": [
    "criterion = nn.NLLLoss()\n",
    "optimizer = optim.Adam(model.parameters(), lr=lr)\n",
    "wandb.watch(model, criterion, log=\"all\", log_freq=10)"
   ]
  },
  {
   "cell_type": "code",
   "execution_count": 9,
   "metadata": {},
   "outputs": [
    {
     "name": "stdout",
     "output_type": "stream",
     "text": [
      "Epoch: 1, Loss: 0.60178\n",
      "Epoch: 2, Loss: 0.55791\n",
      "Epoch: 3, Loss: 0.42671\n",
      "Epoch: 4, Loss: 0.31059\n",
      "Epoch: 5, Loss: 0.29078\n",
      "Epoch: 6, Loss: 0.27743\n",
      "Epoch: 7, Loss: 0.20720\n",
      "Epoch: 8, Loss: 0.14861\n",
      "Epoch: 9, Loss: 0.11967\n",
      "Epoch: 10, Loss: 0.10235\n"
     ]
    }
   ],
   "source": [
    "for i in range (num_epochs):\n",
    "    train_loss = 0\n",
    "    train_acc = 0\n",
    "\n",
    "    model = model.to(device)\n",
    "    model.train()\n",
    "    for data in iter(train_loader):\n",
    "        im = Variable(data[0].to(device))\n",
    "        label = Variable(data[1].to(device))\n",
    "        out = model(im)['out']\n",
    "        out = F.log_softmax(out, dim=1)\n",
    "        loss = criterion(out,label)\n",
    "        train_loss += loss.item()\n",
    "        optimizer.zero_grad()\n",
    "        loss.backward()\n",
    "        optimizer.step()\n",
    "        wandb.log({\"loss\": loss})\n",
    "    print('Epoch: {}, Loss: {:.5f}'.format(i, train_loss/len(train_loader)))\n"
   ]
  },
  {
   "cell_type": "code",
   "execution_count": 10,
   "metadata": {},
   "outputs": [
    {
     "data": {
      "text/plain": [
       "<All keys matched successfully>"
      ]
     },
     "execution_count": 10,
     "metadata": {},
     "output_type": "execute_result"
    }
   ],
   "source": [
    "PATH = './Q2NNLoss.pth'\n",
    "model.load_state_dict(torch.load(PATH))"
   ]
  },
  {
   "attachments": {},
   "cell_type": "markdown",
   "metadata": {},
   "source": [
    "## Q2 class-wise accuracies and other performance metrics "
   ]
  },
  {
   "cell_type": "code",
   "execution_count": 11,
   "metadata": {},
   "outputs": [],
   "source": [
    "def _fast_hist(label_true, label_pred, n_class):\n",
    "    mask = (label_true >= 0) & (label_true < n_class)\n",
    "    hist = np.bincount(\n",
    "        n_class * label_true[mask].astype(int) +\n",
    "        label_pred[mask], minlength=n_class ** 2).reshape(n_class, n_class)\n",
    "    return hist\n",
    "\n",
    "def get_evaluators(confusionMatrix):\n",
    "    precision = np.diag(confusionMatrix) / (confusionMatrix.sum(axis=0))\n",
    "    recall = np.diag(confusionMatrix) / (confusionMatrix.sum(axis=1))\n",
    "    f1_score = 2 * precision * recall / (precision + recall+1e-12)\n",
    "    \n",
    "    return precision, recall, f1_score\n",
    "\n",
    "\n",
    "def get_iou_score(y_true, y_pred, num_classes):\n",
    "    iou_list = []\n",
    "    for c in range(num_classes):\n",
    "        TP = np.sum((y_true == c) & (y_pred == c))\n",
    "        FP = np.sum((y_true != c) & (y_pred == c))\n",
    "        FN = np.sum((y_true == c) & (y_pred != c))\n",
    "        iou = TP / (TP + FP + FN + 1e-16)\n",
    "        iou_list.append(iou)\n",
    "    return iou_list\n",
    "\n",
    "def evaluators(y_true, y_pred, num_classes):\n",
    "    iou_list = []\n",
    "    f1_list = []\n",
    "    precision_list = []\n",
    "    recall_list = []\n",
    "    accuracy_list = []\n",
    "    for c in range(num_classes):\n",
    "        TP = np.sum((y_true == c) & (y_pred == c))\n",
    "        FP = np.sum((y_true != c) & (y_pred == c))\n",
    "        FN = np.sum((y_true == c) & (y_pred != c))\n",
    "        TN = np.sum((y_true != c) & (y_pred != c))\n",
    "        precision = TP / (TP + FP+0.0000000000000001)\n",
    "        recall = TP / (TP + FN +0.0000000000000001)\n",
    "        f1 = 2 * precision * recall / (precision + recall+0.0000000000000001)\n",
    "        accuracy = (TP + TN) / (TP + TN + FP + FN +0.0000000000000001)\n",
    "        iou = TP / (TP + FP + FN + 0.0000000000000001)\n",
    "        # if a class is not present in the image, then the iou, precision, recall and f1 score will be 0\n",
    "        # so we will count and add the sum only if the IoU is greater than the given thereshold\n",
    "        f1_list.append(f1)\n",
    "        precision_list.append(precision)\n",
    "        recall_list.append(recall)\n",
    "        accuracy_list.append(accuracy)\n",
    "        iou_list.append(iou)\n",
    "    \n",
    "    f1_list = np.array(f1_list)\n",
    "    precision_list = np.array(precision_list)\n",
    "    recall_list = np.array(recall_list)\n",
    "    accuracy_list = np.array(accuracy_list)\n",
    "    iou_list = np.array(iou_list)\n",
    "    return f1_list, precision_list, recall_list, accuracy_list, iou_list\n",
    "\n",
    "def getMaxIndexWise(arr1, arr2):\n",
    "    ans = []\n",
    "    for i in range(len(arr1)):\n",
    "        ans.append(max(arr1[i], arr2[i]))\n",
    "    return np.array(ans)"
   ]
  },
  {
   "cell_type": "code",
   "execution_count": 14,
   "metadata": {},
   "outputs": [
    {
     "name": "stdout",
     "output_type": "stream",
     "text": [
      "final average precision classwise :  [0.96119172 0.93780662 0.72383341 0.89573207 0.88613371 0.92309774\n",
      " 0.94310279 0.93893292 0.88519547 0.9172893  0.94399179 0.86113305\n",
      " 0.95005708 0.92102895 0.82062418 0.91366501 0.79630165 0.90721998\n",
      " 0.8689912  0.94227057 0.91724671]\n",
      "final average recall classwise :  [0.96002403 0.79994898 0.95515905 0.8751825  0.85700737 0.95855521\n",
      " 0.97818989 0.9152612  0.88045322 0.85450182 0.86061193 0.8329462\n",
      " 0.93045996 0.86892701 0.89120189 0.90274016 0.99494585 0.882492\n",
      " 0.86512294 0.88482665 0.83759827]\n",
      "final average f1_score classwise :  [0.95926053 0.85859193 0.82356062 0.87431605 0.86517433 0.94007378\n",
      " 0.96003702 0.92547446 0.87766371 0.88174769 0.88934625 0.83918212\n",
      " 0.93844494 0.89122277 0.84685497 0.90332214 0.88460921 0.88904608\n",
      " 0.86131206 0.9068908  0.86433716]\n",
      "final average IoU score classwise :  [0.92572003 0.76524928 0.70004509 0.78872634 0.77689524 0.88785517\n",
      " 0.92387465 0.86323184 0.79663584 0.79120558 0.81308196 0.73241925\n",
      " 0.88724273 0.81278168 0.74407193 0.83110784 0.79309353 0.80923844\n",
      " 0.76746972 0.84041749 0.77323221]\n",
      "final average accuracy score classwise :  [0.94970093 0.96032444 0.78347005 0.97965205 0.95785286 0.99408854\n",
      " 0.9653201  0.96723796 0.94974669 0.9598763  0.94006673 0.93505941\n",
      " 0.9796346  0.97241102 0.94697211 0.97971339 0.99531901 0.9603418\n",
      " 0.94067491 0.9634156  0.95272526]\n",
      "final average precision:  0.8978498067530926\n",
      "final average recall:  0.8945788621428538\n",
      "final average f1_score:  0.8895461246345041\n",
      "final average IoU score:  0.8106474214102751\n",
      "final average accuracy score:  0.9539811321009237\n"
     ]
    }
   ],
   "source": [
    "model = model.to(device)\n",
    "model.eval()\n",
    "VOCData.isTrain = False\n",
    "with torch.no_grad():\n",
    "    finalPrecision = 0\n",
    "    finalRecall = 0\n",
    "    finalF1Score = 0\n",
    "    finalIouScore = 0\n",
    "    finalAccuracyScore = 0\n",
    "    totalDivider = np.zeros(21)\n",
    "    for data in iter(test_loader):\n",
    "        image = Variable(data[0].to(device))\n",
    "        trueLabel = Variable(data[1].to(device))\n",
    "        predictedLabel = model(image)['out']\n",
    "        predictedLabel = F.log_softmax(predictedLabel,dim=1)\n",
    "        predictedLabel = predictedLabel.max(dim=1)[1].data.cpu().numpy()\n",
    "        trueLabel = trueLabel.data.cpu().numpy()\n",
    "        precision = np.zeros(21)\n",
    "        recall = np.zeros(21)\n",
    "        f1_score =  np.zeros(21)\n",
    "        iouScore = np.zeros(21)\n",
    "        accuracy = np.zeros(21)\n",
    "        for curTrueLabel, curPredictedLabel in zip(trueLabel, predictedLabel):\n",
    "            temp_f1_score,temp_precision, temp_recall,temp_accuracy,tempIOU = evaluators(curTrueLabel, curPredictedLabel, 21)\n",
    "\n",
    "            # since if a class is not present in the image, then the TP will be 0 so the iou,precision,recall will be 0\n",
    "            # so we will count classwise and add the sum only if the IoU is greater than the given thereshold\n",
    "\n",
    "            for i in range(21):\n",
    "                if(tempIOU[i] >= 0.5):\n",
    "                    totalDivider[i] += 1\n",
    "                    precision[i] += temp_precision[i]\n",
    "                    recall[i] += temp_recall[i]\n",
    "                    f1_score[i] += temp_f1_score[i]\n",
    "                    iouScore[i] += tempIOU[i]\n",
    "                    accuracy[i] += temp_accuracy[i]\n",
    "    \n",
    "            \n",
    "        finalPrecision += precision\n",
    "        finalRecall += recall\n",
    "        finalF1Score += f1_score\n",
    "        finalIouScore += iouScore\n",
    "        finalAccuracyScore += accuracy\n",
    "\n",
    "    for i in range(21):\n",
    "        finalPrecision[i] /= totalDivider[i]\n",
    "        finalRecall[i] /= totalDivider[i]\n",
    "        finalF1Score[i] /= totalDivider[i]\n",
    "        finalIouScore[i] /= totalDivider[i]\n",
    "        finalAccuracyScore[i] /= totalDivider[i]\n",
    "\n",
    "    print(\"final average precision classwise : \", finalPrecision)\n",
    "    print(\"final average recall classwise : \", finalRecall)\n",
    "    print(\"final average f1_score classwise : \", finalF1Score)\n",
    "    print(\"final average IoU score classwise : \", finalIouScore)\n",
    "    print(\"final average accuracy score classwise : \", finalAccuracyScore)\n",
    "\n",
    "    print(\"final average precision: \", np.mean(finalPrecision))\n",
    "    print(\"final average recall: \", np.mean(finalRecall))\n",
    "    print(\"final average f1_score: \", np.mean(finalF1Score))\n",
    "    print(\"final average IoU score: \", np.mean(finalIouScore))\n",
    "    print(\"final average accuracy score: \", np.mean(finalAccuracyScore))"
   ]
  }
 ],
 "metadata": {
  "kernelspec": {
   "display_name": "base",
   "language": "python",
   "name": "python3"
  },
  "language_info": {
   "codemirror_mode": {
    "name": "ipython",
    "version": 3
   },
   "file_extension": ".py",
   "mimetype": "text/x-python",
   "name": "python",
   "nbconvert_exporter": "python",
   "pygments_lexer": "ipython3",
   "version": "3.9.13"
  },
  "orig_nbformat": 4,
  "vscode": {
   "interpreter": {
    "hash": "2075c97d54907e4ce0bb4b751e65d444874ef25bbe90d9b8c2daef915656c098"
   }
  }
 },
 "nbformat": 4,
 "nbformat_minor": 2
}
